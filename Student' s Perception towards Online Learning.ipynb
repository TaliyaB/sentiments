{
 "cells": [
  {
   "cell_type": "code",
   "execution_count": 3,
   "id": "260a8dc1",
   "metadata": {},
   "outputs": [
    {
     "data": {
      "text/markdown": [
       "# **Extracting Data to be Visualized**"
      ],
      "text/plain": [
       "<IPython.core.display.Markdown object>"
      ]
     },
     "metadata": {},
     "output_type": "display_data"
    },
    {
     "name": "stderr",
     "output_type": "stream",
     "text": [
      "[nltk_data] Downloading package punkt to\n",
      "[nltk_data]     C:\\Users\\user\\AppData\\Roaming\\nltk_data...\n",
      "[nltk_data]   Package punkt is already up-to-date!\n",
      "[nltk_data] Downloading package stopwords to\n",
      "[nltk_data]     C:\\Users\\user\\AppData\\Roaming\\nltk_data...\n",
      "[nltk_data]   Package stopwords is already up-to-date!\n",
      "[nltk_data] Downloading package averaged_perceptron_tagger to\n",
      "[nltk_data]     C:\\Users\\user\\AppData\\Roaming\\nltk_data...\n",
      "[nltk_data]   Package averaged_perceptron_tagger is already up-to-\n",
      "[nltk_data]       date!\n",
      "[nltk_data] Downloading package wordnet to\n",
      "[nltk_data]     C:\\Users\\user\\AppData\\Roaming\\nltk_data...\n",
      "[nltk_data]   Package wordnet is already up-to-date!\n"
     ]
    },
    {
     "ename": "ModuleNotFoundError",
     "evalue": "No module named 'spacy'",
     "output_type": "error",
     "traceback": [
      "\u001b[1;31m---------------------------------------------------------------------------\u001b[0m",
      "\u001b[1;31mModuleNotFoundError\u001b[0m                       Traceback (most recent call last)",
      "\u001b[1;32m~\\AppData\\Local\\Temp/ipykernel_22888/649735358.py\u001b[0m in \u001b[0;36m<module>\u001b[1;34m\u001b[0m\n\u001b[0;32m      7\u001b[0m \u001b[1;32mimport\u001b[0m \u001b[0mpandas\u001b[0m \u001b[1;32mas\u001b[0m \u001b[0mpd\u001b[0m\u001b[1;33m\u001b[0m\u001b[1;33m\u001b[0m\u001b[0m\n\u001b[0;32m      8\u001b[0m \u001b[1;33m\u001b[0m\u001b[0m\n\u001b[1;32m----> 9\u001b[1;33m \u001b[1;32mfrom\u001b[0m \u001b[0msentiments\u001b[0m \u001b[1;32mimport\u001b[0m \u001b[0mTextProcessor\u001b[0m\u001b[1;33m,\u001b[0m \u001b[0mVisualizer\u001b[0m\u001b[1;33m,\u001b[0m \u001b[0mMachineLearning\u001b[0m\u001b[1;33m\u001b[0m\u001b[1;33m\u001b[0m\u001b[0m\n\u001b[0m\u001b[0;32m     10\u001b[0m \u001b[1;32mimport\u001b[0m \u001b[0mos\u001b[0m\u001b[1;33m\u001b[0m\u001b[1;33m\u001b[0m\u001b[0m\n\u001b[0;32m     11\u001b[0m \u001b[0mpath\u001b[0m \u001b[1;33m=\u001b[0m  \u001b[1;34m\"C:\\\\Users\\\\user\\\\Documents\\\\Freelance\\\\sentiments\\\\sample_data\\\\Student' s Perception towards Online Learning Questionnaire.csv (1)/Student' s Perception towards Online Learning Questionnaire\"\u001b[0m\u001b[1;33m\u001b[0m\u001b[1;33m\u001b[0m\u001b[0m\n",
      "\u001b[1;32m~\\Documents\\Freelance\\sentiments\\sentiments\\TextProcessor.py\u001b[0m in \u001b[0;36m<module>\u001b[1;34m\u001b[0m\n\u001b[0;32m      8\u001b[0m \u001b[1;32mfrom\u001b[0m  \u001b[0mnltk\u001b[0m\u001b[1;33m.\u001b[0m\u001b[0mcorpus\u001b[0m \u001b[1;32mimport\u001b[0m \u001b[0mstopwords\u001b[0m\u001b[1;33m\u001b[0m\u001b[1;33m\u001b[0m\u001b[0m\n\u001b[0;32m      9\u001b[0m \u001b[1;32mfrom\u001b[0m  \u001b[0mnltk\u001b[0m\u001b[1;33m.\u001b[0m\u001b[0mtokenize\u001b[0m \u001b[1;32mimport\u001b[0m \u001b[0mword_tokenize\u001b[0m\u001b[1;33m\u001b[0m\u001b[1;33m\u001b[0m\u001b[0m\n\u001b[1;32m---> 10\u001b[1;33m \u001b[1;32mimport\u001b[0m \u001b[0mspacy\u001b[0m\u001b[1;33m\u001b[0m\u001b[1;33m\u001b[0m\u001b[0m\n\u001b[0m\u001b[0;32m     11\u001b[0m \u001b[0mspacy\u001b[0m\u001b[1;33m.\u001b[0m\u001b[0mcli\u001b[0m\u001b[1;33m.\u001b[0m\u001b[0mdownload\u001b[0m\u001b[1;33m(\u001b[0m\u001b[1;34m\"en_core_web_md\"\u001b[0m\u001b[1;33m)\u001b[0m\u001b[1;33m\u001b[0m\u001b[1;33m\u001b[0m\u001b[0m\n\u001b[0;32m     12\u001b[0m \u001b[1;32mimport\u001b[0m \u001b[0men_core_web_md\u001b[0m\u001b[1;33m\u001b[0m\u001b[1;33m\u001b[0m\u001b[0m\n",
      "\u001b[1;31mModuleNotFoundError\u001b[0m: No module named 'spacy'"
     ]
    }
   ],
   "source": [
    "\"\"\"\n",
    "DATA EXTRACTOR CODE\n",
    "\"\"\"\n",
    "from IPython.display import Markdown, display\n",
    "from IPython.display import display_html\n",
    "display(Markdown('# **Extracting Data to be Visualized**'))\n",
    "import pandas as pd\n",
    "\n",
    "from sentiments import TextProcessor, Visualizer, MachineLearning\n",
    "import os\n",
    "path =  \"C:\\\\Users\\\\user\\\\Documents\\\\Freelance\\\\sentiments\\\\sample_data\\\\Student' s Perception towards Online Learning Questionnaire.csv (1)/Student' s Perception towards Online Learning Questionnaire\"\n",
    "path = os.path.join(os.getcwd(), path)\n",
    "\n",
    "#create data object\n",
    "data = TextProcessor.TextProcessor()\n",
    "data.parser(path=path)\n",
    "\n",
    "\n",
    "machine_learning_processes = MachineLearning.MachineLearning(df_for_sentiment_analysis=data.df_final_data_for_sentiment_analysis,\n",
    "                                                             tokens_per_question=data.list_tokens_per_question,\n",
    "                                                             respondents_by_course=data.dict_respondents_course,\n",
    "                                                             respondents_by_block=data.dict_respondents_block,\n",
    "                                                             total_respondents=data.int_respondents_count)\n",
    "machine_learning_processes.exploratory_data_analysis(n_words=5)\n",
    "machine_learning_processes.sentiment_analysis()\n",
    "\n",
    "display(Markdown('**Done.**'))"
   ]
  },
  {
   "cell_type": "code",
   "execution_count": null,
   "id": "60fe9f20",
   "metadata": {},
   "outputs": [],
   "source": [
    "display(Markdown('# **Exploratory Data Analysis**'))\n",
    "display(Markdown('#### **Number of Questions:** \\n{}'.format('7')))\n",
    "display(Markdown('#### **Number of Respondents:**\\n{}'.format(data.int_respondents_count)))\n",
    "display(Markdown('#### **Graphical Representation 1:**'))\n",
    "respondents_per_block = Visualizer.Visualizer()\n",
    "print(data.dict_respondents_block)\n",
    "respondents_per_block.pie(x_data=data.dict_respondents_block.keys(), \n",
    "                          y_data=data.dict_respondents_block.values(),\n",
    "                          title=\"Distribution of Respondents per Course\",\n",
    "                          output_filename=\"all_generated\\\\respondents_per_block.png\")\n",
    "respondents_per_course = Visualizer.Visualizer()\n",
    "display(Markdown('#### **Graphical Representation 2:**'))\n",
    "respondents_per_course = Visualizer.Visualizer()\n",
    "print(data.dict_respondents_course)\n",
    "respondents_per_course.pie(x_data=data.dict_respondents_course.keys(), \n",
    "                          y_data=data.dict_respondents_course.values(),\n",
    "                          title=\"Distribution of Respondents per Course\",\n",
    "                          output_filename=\"all_generated\\\\respondents_per_course.png\")\n",
    "\n",
    "display(Markdown('#### **Graphical Representation 3:**'))\n",
    "top_n_adj = Visualizer.Visualizer()\n",
    "top_n_adj.multiple_bar_for_top_n_words(df_top_n_words=machine_learning_processes.df_top_n_adjectives,\n",
    "                                         word_type='Adjective', \n",
    "                                         title=\"Top Adjectives per Question\", \n",
    "                                         output_file=\"all_generated\\\\top_n_Adjective.png\")\n",
    "    \n",
    "def display_side_by_side(*args):\n",
    "    html_str = ''\n",
    "    for df in args:\n",
    "        html_str += df.to_html()\n",
    "    display_html(\n",
    "        html_str.replace('table','table style=\"display:inline\"'), \n",
    "        raw=True\n",
    "    )\n",
    "display_side_by_side(machine_learning_processes.df_top_n_adjectives[0], \n",
    "                    machine_learning_processes.df_top_n_adjectives[1],\n",
    "                    machine_learning_processes.df_top_n_adjectives[2],\n",
    "                    machine_learning_processes.df_top_n_adjectives[3],\n",
    "                    machine_learning_processes.df_top_n_adjectives[4],\n",
    "                    machine_learning_processes.df_top_n_adjectives[5],\n",
    "                    machine_learning_processes.df_top_n_adjectives[6])\n",
    "\n",
    "\n",
    "top_n_noun = Visualizer.Visualizer()\n",
    "top_n_noun.multiple_bar_for_top_n_words(df_top_n_words=machine_learning_processes.df_top_n_nouns,\n",
    "                                         word_type='Noun', \n",
    "                                         title=\"Top Nouns per Question\", \n",
    "                                         output_file=\"all_generated\\\\top_n_Noun.png\")\n",
    "display_side_by_side(machine_learning_processes.df_top_n_nouns[0], \n",
    "                    machine_learning_processes.df_top_n_nouns[1],\n",
    "                    machine_learning_processes.df_top_n_nouns[2],\n",
    "                    machine_learning_processes.df_top_n_nouns[3],\n",
    "                    machine_learning_processes.df_top_n_nouns[4],\n",
    "                    machine_learning_processes.df_top_n_nouns[5],\n",
    "                    machine_learning_processes.df_top_n_nouns[6])\n",
    "\n"
   ]
  },
  {
   "cell_type": "code",
   "execution_count": null,
   "id": "dc61c766",
   "metadata": {},
   "outputs": [],
   "source": [
    "display(Markdown('# **Sentiment Analysis**'))\n",
    "display(Markdown('#### **Dataframe Preview:**'))\n",
    "display(machine_learning_processes.df_sentiment_analysis_result.sample(10))\n",
    "display(Markdown('#### **Graphical Representation 5:**'))\n",
    "\n",
    "sentiment_analysis_frequency = Visualizer.Visualizer()\n",
    "print(\" Positive freq : {}\".format(machine_learning_processes.list_freq_pos_sentiments_per_question))\n",
    "print(\" Negative freq : {}\".format(machine_learning_processes.list_freq_neg_sentiments_per_question))\n",
    "sentiment_analysis_frequency.multiple_bar_for_sentiment_analysis(y0_data=machine_learning_processes.list_freq_pos_sentiments_per_question,\n",
    "                                                                 y1_data=machine_learning_processes.list_freq_neg_sentiments_per_question, \n",
    "                                                                 title=\"Frequency Distribution of Sentiments per Question\", \n",
    "                                                                 output_file=\"all_generated\\\\sentiment_analysis.png\")"
   ]
  },
  {
   "cell_type": "code",
   "execution_count": null,
   "id": "6954367c",
   "metadata": {},
   "outputs": [],
   "source": [
    "display(Markdown('# **WordCloud for Each Sentiment Classification**'))\n",
    "\n",
    "\n",
    "display(Markdown('#### **Graphical Representation 6:**'))\n",
    "positive_wordCloud = Visualizer.Visualizer()\n",
    "positive_wordCloud.wordCloud(text=machine_learning_processes.df_positive_predicted_sentiments['Text'].tolist(),\n",
    "                             color='white', title='Positive WordCloud', output_file='all_generated\\\\positive_wordcloud.png')\n",
    "\n",
    "\n",
    "display(Markdown('#### **Graphical Representation 7:**'))\n",
    "negative_wordCloud = Visualizer.Visualizer()\n",
    "negative_wordCloud.wordCloud(text=machine_learning_processes.df_negative_predicted_sentiments['Text'].tolist(),\n",
    "                             color='black', title='Negative WordCloud', output_file='all_generated\\\\negative_wordcloud.png')\n"
   ]
  },
  {
   "cell_type": "code",
   "execution_count": null,
   "id": "182553c1",
   "metadata": {},
   "outputs": [],
   "source": [
    "display(Markdown('# **Topic Modeling Using LDA**'))\n",
    "display(Markdown('#### **Topics:**'))\n",
    "machine_learning_processes.LatentDirichletAllocation(\n",
    "    tokens= machine_learning_processes.df_negative_predicted_sentiments['Tokens'].tolist(),\n",
    "    filename_lda_model= 'all_generated\\\\negative.gensim',\n",
    "    filename_corpus= 'all_generated\\\\negative_corpus.pkl',\n",
    "    filename_dictionary= 'all_generated\\\\negative_dictionary.gensim'\n",
    ")\n",
    "\n",
    "display(Markdown('#### **Topics:**'))\n",
    "machine_learning_processes.LatentDirichletAllocation(\n",
    "    tokens=machine_learning_processes.df_positive_predicted_sentiments['Tokens'].tolist(),\n",
    "    filename_lda_model= 'all_generated\\\\positive.gensim',\n",
    "    filename_corpus= 'all_generated\\\\positive_corpus.pkl',\n",
    "    filename_dictionary= 'all_generated\\\\positive_dictionary.gensim'\n",
    ")\n",
    "\n"
   ]
  },
  {
   "cell_type": "code",
   "execution_count": null,
   "id": "3fbb6733",
   "metadata": {},
   "outputs": [],
   "source": [
    "display(Markdown('#### **Graphical Representation 9:**'))\n",
    "'''\n",
    "LDA of Positive responses\n",
    "'''\n",
    "import pyLDAvis\n",
    "import gensim\n",
    "import pickle\n",
    "pyLDAvis.enable_notebook()\n",
    "lda = 'all_generated\\\\positive.gensim'\n",
    "dictionary = gensim.corpora.Dictionary.load('all_generated\\\\positive_dictionary.gensim')\n",
    "corpus = pickle.load(open('all_generated\\\\positive_corpus.pkl', 'rb'))\n",
    "lda_model = gensim.models.ldamodel.LdaModel.load(lda)\n",
    "pyLDAvis.enable_notebook()\n",
    "lda_display = pyLDAvis.gensim_models.prepare(lda_model, corpus, dictionary)\n",
    "pyLDAvis.display(lda_display)"
   ]
  },
  {
   "cell_type": "code",
   "execution_count": null,
   "id": "6bd411aa",
   "metadata": {},
   "outputs": [],
   "source": [
    "display(Markdown('#### **Graphical Representation 8:**'))\n",
    "\n",
    "'''\n",
    "LDA of Negative responses\n",
    "'''\n",
    "import pyLDAvis\n",
    "import gensim\n",
    "import pickle\n",
    "pyLDAvis.enable_notebook()\n",
    "lda = 'all_generated\\\\negative.gensim'\n",
    "dictionary = gensim.corpora.Dictionary.load('all_generated\\\\negative_dictionary.gensim')\n",
    "corpus = pickle.load(open('all_generated\\\\negative_corpus.pkl', 'rb'))\n",
    "lda_model = gensim.models.ldamodel.LdaModel.load(lda)\n",
    "pyLDAvis.enable_notebook()\n",
    "lda_display = pyLDAvis.gensim_models.prepare(lda_model, corpus, dictionary)\n",
    "pyLDAvis.display(lda_display)"
   ]
  }
 ],
 "metadata": {
  "kernelspec": {
   "display_name": "Python 3 (ipykernel)",
   "language": "python",
   "name": "python3"
  },
  "language_info": {
   "codemirror_mode": {
    "name": "ipython",
    "version": 3
   },
   "file_extension": ".py",
   "mimetype": "text/x-python",
   "name": "python",
   "nbconvert_exporter": "python",
   "pygments_lexer": "ipython3",
   "version": "3.9.7"
  }
 },
 "nbformat": 4,
 "nbformat_minor": 5
}
